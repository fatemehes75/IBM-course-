{
  "nbformat": 4,
  "nbformat_minor": 0,
  "metadata": {
    "colab": {
      "provenance": []
    },
    "kernelspec": {
      "name": "python3",
      "display_name": "Python 3"
    },
    "language_info": {
      "name": "python"
    }
  },
  "cells": [
    {
      "cell_type": "code",
      "execution_count": 1,
      "metadata": {
        "id": "URSZAEIzw6gf"
      },
      "outputs": [],
      "source": [
        "# @title\n",
        "%load_ext sql"
      ]
    },
    {
      "cell_type": "code",
      "source": [
        "# @title\n",
        "import csv, sqlite3\n",
        "\n",
        "con = sqlite3.connect(\"kingcounty.db\")\n",
        "cur = con.cursor()"
      ],
      "metadata": {
        "id": "rCCdUaGaw71O"
      },
      "execution_count": 2,
      "outputs": []
    },
    {
      "cell_type": "code",
      "source": [
        "# @title\n",
        "!pip install -q pandas==1.1.5"
      ],
      "metadata": {
        "colab": {
          "base_uri": "https://localhost:8080/"
        },
        "id": "9XuahPMxxCw1",
        "outputId": "9260181e-1f94-4cad-9569-16bcb239d996"
      },
      "execution_count": 3,
      "outputs": [
        {
          "output_type": "stream",
          "name": "stdout",
          "text": [
            "\u001b[2K     \u001b[90m━━━━━━━━━━━━━━━━━━━━━━━━━━━━━━━━━━━━━━━━\u001b[0m \u001b[32m5.2/5.2 MB\u001b[0m \u001b[31m15.1 MB/s\u001b[0m eta \u001b[36m0:00:00\u001b[0m\n",
            "\u001b[?25h  Installing build dependencies ... \u001b[?25l\u001b[?25hdone\n",
            "  Getting requirements to build wheel ... \u001b[?25l\u001b[?25hdone\n",
            "  Preparing metadata (pyproject.toml) ... \u001b[?25l\u001b[?25hdone\n",
            "  Building wheel for pandas (pyproject.toml) ... \u001b[?25l\u001b[?25hdone\n",
            "\u001b[31mERROR: pip's dependency resolver does not currently take into account all the packages that are installed. This behaviour is the source of the following dependency conflicts.\n",
            "lida 0.0.10 requires fastapi, which is not installed.\n",
            "lida 0.0.10 requires kaleido, which is not installed.\n",
            "lida 0.0.10 requires python-multipart, which is not installed.\n",
            "lida 0.0.10 requires uvicorn, which is not installed.\n",
            "arviz 0.15.1 requires pandas>=1.3.0, but you have pandas 1.1.5 which is incompatible.\n",
            "bigframes 0.19.2 requires pandas<2.1.4,>=1.5.0, but you have pandas 1.1.5 which is incompatible.\n",
            "bokeh 3.3.4 requires pandas>=1.2, but you have pandas 1.1.5 which is incompatible.\n",
            "google-colab 1.0.0 requires pandas==1.5.3, but you have pandas 1.1.5 which is incompatible.\n",
            "ibis-framework 7.1.0 requires pandas<3,>=1.2.5, but you have pandas 1.1.5 which is incompatible.\n",
            "mizani 0.9.3 requires pandas>=1.3.5, but you have pandas 1.1.5 which is incompatible.\n",
            "panel 1.3.8 requires pandas>=1.2, but you have pandas 1.1.5 which is incompatible.\n",
            "plotnine 0.12.4 requires pandas>=1.5.0, but you have pandas 1.1.5 which is incompatible.\n",
            "seaborn 0.13.1 requires pandas>=1.2, but you have pandas 1.1.5 which is incompatible.\n",
            "xarray 2023.7.0 requires pandas>=1.4, but you have pandas 1.1.5 which is incompatible.\n",
            "yfinance 0.2.36 requires pandas>=1.3.0, but you have pandas 1.1.5 which is incompatible.\u001b[0m\u001b[31m\n",
            "\u001b[0m"
          ]
        }
      ]
    },
    {
      "cell_type": "code",
      "source": [
        "# @title\n",
        "%sql sqlite:///kingcounty.db"
      ],
      "metadata": {
        "id": "NRAJjid-xFXl"
      },
      "execution_count": 4,
      "outputs": []
    },
    {
      "cell_type": "code",
      "source": [
        "# @title\n",
        "import pandas as pd"
      ],
      "metadata": {
        "id": "5eUehSy40TEv"
      },
      "execution_count": 11,
      "outputs": []
    },
    {
      "cell_type": "code",
      "source": [
        "# @title\n",
        "df = pd.read_csv(\"kc_house_data.csv\")\n",
        "df.to_sql(\"kc_TBL\", con, if_exists='replace', index=False)"
      ],
      "metadata": {
        "colab": {
          "base_uri": "https://localhost:8080/"
        },
        "id": "BL4mkZuZxTsG",
        "outputId": "0a7c749b-a5f0-403c-e68b-d1dce41cacc0"
      },
      "execution_count": 14,
      "outputs": [
        {
          "output_type": "execute_result",
          "data": {
            "text/plain": [
              "21613"
            ]
          },
          "metadata": {},
          "execution_count": 14
        }
      ]
    },
    {
      "cell_type": "markdown",
      "source": [
        "# Problems"
      ],
      "metadata": {
        "id": "ECTUCFrAxv4I"
      }
    },
    {
      "cell_type": "markdown",
      "source": [
        "1. Show the first few rows of the dataset"
      ],
      "metadata": {
        "id": "IdbwZJEu1adw"
      }
    },
    {
      "cell_type": "code",
      "source": [
        "# @title\n",
        "%sql SELECT * FROM kc_TBL LIMIT 5;"
      ],
      "metadata": {
        "colab": {
          "base_uri": "https://localhost:8080/",
          "height": 220
        },
        "id": "TrZ4SMZAxvnP",
        "outputId": "088711ff-8f1c-4988-d308-91a4b6840fec"
      },
      "execution_count": 15,
      "outputs": [
        {
          "output_type": "stream",
          "name": "stdout",
          "text": [
            " * sqlite:///kingcounty.db\n",
            "Done.\n"
          ]
        },
        {
          "output_type": "execute_result",
          "data": {
            "text/plain": [
              "[(0, 7129300520, '20141013T000000', 221900.0, 3.0, 1.0, 1180, 5650, 1.0, 0, 0, 3, 7, 1180, 0, 1955, 0, 98178, 47.5112, -122.257, 1340, 5650),\n",
              " (1, 6414100192, '20141209T000000', 538000.0, 3.0, 2.25, 2570, 7242, 2.0, 0, 0, 3, 7, 2170, 400, 1951, 1991, 98125, 47.721, -122.319, 1690, 7639),\n",
              " (2, 5631500400, '20150225T000000', 180000.0, 2.0, 1.0, 770, 10000, 1.0, 0, 0, 3, 6, 770, 0, 1933, 0, 98028, 47.7379, -122.233, 2720, 8062),\n",
              " (3, 2487200875, '20141209T000000', 604000.0, 4.0, 3.0, 1960, 5000, 1.0, 0, 0, 5, 7, 1050, 910, 1965, 0, 98136, 47.5208, -122.393, 1360, 5000),\n",
              " (4, 1954400510, '20150218T000000', 510000.0, 3.0, 2.0, 1680, 8080, 1.0, 0, 0, 3, 8, 1680, 0, 1987, 0, 98074, 47.6168, -122.045, 1800, 7503)]"
            ],
            "text/html": [
              "<table>\n",
              "    <thead>\n",
              "        <tr>\n",
              "            <th>Unnamed: 0</th>\n",
              "            <th>id</th>\n",
              "            <th>date</th>\n",
              "            <th>price</th>\n",
              "            <th>bedrooms</th>\n",
              "            <th>bathrooms</th>\n",
              "            <th>sqft_living</th>\n",
              "            <th>sqft_lot</th>\n",
              "            <th>floors</th>\n",
              "            <th>waterfront</th>\n",
              "            <th>view</th>\n",
              "            <th>condition</th>\n",
              "            <th>grade</th>\n",
              "            <th>sqft_above</th>\n",
              "            <th>sqft_basement</th>\n",
              "            <th>yr_built</th>\n",
              "            <th>yr_renovated</th>\n",
              "            <th>zipcode</th>\n",
              "            <th>lat</th>\n",
              "            <th>long</th>\n",
              "            <th>sqft_living15</th>\n",
              "            <th>sqft_lot15</th>\n",
              "        </tr>\n",
              "    </thead>\n",
              "    <tbody>\n",
              "        <tr>\n",
              "            <td>0</td>\n",
              "            <td>7129300520</td>\n",
              "            <td>20141013T000000</td>\n",
              "            <td>221900.0</td>\n",
              "            <td>3.0</td>\n",
              "            <td>1.0</td>\n",
              "            <td>1180</td>\n",
              "            <td>5650</td>\n",
              "            <td>1.0</td>\n",
              "            <td>0</td>\n",
              "            <td>0</td>\n",
              "            <td>3</td>\n",
              "            <td>7</td>\n",
              "            <td>1180</td>\n",
              "            <td>0</td>\n",
              "            <td>1955</td>\n",
              "            <td>0</td>\n",
              "            <td>98178</td>\n",
              "            <td>47.5112</td>\n",
              "            <td>-122.257</td>\n",
              "            <td>1340</td>\n",
              "            <td>5650</td>\n",
              "        </tr>\n",
              "        <tr>\n",
              "            <td>1</td>\n",
              "            <td>6414100192</td>\n",
              "            <td>20141209T000000</td>\n",
              "            <td>538000.0</td>\n",
              "            <td>3.0</td>\n",
              "            <td>2.25</td>\n",
              "            <td>2570</td>\n",
              "            <td>7242</td>\n",
              "            <td>2.0</td>\n",
              "            <td>0</td>\n",
              "            <td>0</td>\n",
              "            <td>3</td>\n",
              "            <td>7</td>\n",
              "            <td>2170</td>\n",
              "            <td>400</td>\n",
              "            <td>1951</td>\n",
              "            <td>1991</td>\n",
              "            <td>98125</td>\n",
              "            <td>47.721</td>\n",
              "            <td>-122.319</td>\n",
              "            <td>1690</td>\n",
              "            <td>7639</td>\n",
              "        </tr>\n",
              "        <tr>\n",
              "            <td>2</td>\n",
              "            <td>5631500400</td>\n",
              "            <td>20150225T000000</td>\n",
              "            <td>180000.0</td>\n",
              "            <td>2.0</td>\n",
              "            <td>1.0</td>\n",
              "            <td>770</td>\n",
              "            <td>10000</td>\n",
              "            <td>1.0</td>\n",
              "            <td>0</td>\n",
              "            <td>0</td>\n",
              "            <td>3</td>\n",
              "            <td>6</td>\n",
              "            <td>770</td>\n",
              "            <td>0</td>\n",
              "            <td>1933</td>\n",
              "            <td>0</td>\n",
              "            <td>98028</td>\n",
              "            <td>47.7379</td>\n",
              "            <td>-122.233</td>\n",
              "            <td>2720</td>\n",
              "            <td>8062</td>\n",
              "        </tr>\n",
              "        <tr>\n",
              "            <td>3</td>\n",
              "            <td>2487200875</td>\n",
              "            <td>20141209T000000</td>\n",
              "            <td>604000.0</td>\n",
              "            <td>4.0</td>\n",
              "            <td>3.0</td>\n",
              "            <td>1960</td>\n",
              "            <td>5000</td>\n",
              "            <td>1.0</td>\n",
              "            <td>0</td>\n",
              "            <td>0</td>\n",
              "            <td>5</td>\n",
              "            <td>7</td>\n",
              "            <td>1050</td>\n",
              "            <td>910</td>\n",
              "            <td>1965</td>\n",
              "            <td>0</td>\n",
              "            <td>98136</td>\n",
              "            <td>47.5208</td>\n",
              "            <td>-122.393</td>\n",
              "            <td>1360</td>\n",
              "            <td>5000</td>\n",
              "        </tr>\n",
              "        <tr>\n",
              "            <td>4</td>\n",
              "            <td>1954400510</td>\n",
              "            <td>20150218T000000</td>\n",
              "            <td>510000.0</td>\n",
              "            <td>3.0</td>\n",
              "            <td>2.0</td>\n",
              "            <td>1680</td>\n",
              "            <td>8080</td>\n",
              "            <td>1.0</td>\n",
              "            <td>0</td>\n",
              "            <td>0</td>\n",
              "            <td>3</td>\n",
              "            <td>8</td>\n",
              "            <td>1680</td>\n",
              "            <td>0</td>\n",
              "            <td>1987</td>\n",
              "            <td>0</td>\n",
              "            <td>98074</td>\n",
              "            <td>47.6168</td>\n",
              "            <td>-122.045</td>\n",
              "            <td>1800</td>\n",
              "            <td>7503</td>\n",
              "        </tr>\n",
              "    </tbody>\n",
              "</table>"
            ]
          },
          "metadata": {},
          "execution_count": 15
        }
      ]
    },
    {
      "cell_type": "markdown",
      "source": [
        "2. Display basic statistics for numerical columns"
      ],
      "metadata": {
        "id": "EpcQ-UhU1W0q"
      }
    },
    {
      "cell_type": "code",
      "source": [
        "# @title\n",
        "%sql SELECT  AVG(price) AS average_price,\\\n",
        "    MIN(price) AS min_price,\\\n",
        "    MAX(price) AS max_price,\\\n",
        "    COUNT(price) AS total_records\\\n",
        "FROM kc_TBL;\n"
      ],
      "metadata": {
        "colab": {
          "base_uri": "https://localhost:8080/",
          "height": 97
        },
        "id": "jwH2zle-1Ckp",
        "outputId": "66c3fa01-adb8-4619-e30c-6b8c9da5378c"
      },
      "execution_count": 16,
      "outputs": [
        {
          "output_type": "stream",
          "name": "stdout",
          "text": [
            " * sqlite:///kingcounty.db\n",
            "Done.\n"
          ]
        },
        {
          "output_type": "execute_result",
          "data": {
            "text/plain": [
              "[(540088.1417665294, 75000.0, 7700000.0, 21613)]"
            ],
            "text/html": [
              "<table>\n",
              "    <thead>\n",
              "        <tr>\n",
              "            <th>average_price</th>\n",
              "            <th>min_price</th>\n",
              "            <th>max_price</th>\n",
              "            <th>total_records</th>\n",
              "        </tr>\n",
              "    </thead>\n",
              "    <tbody>\n",
              "        <tr>\n",
              "            <td>540088.1417665294</td>\n",
              "            <td>75000.0</td>\n",
              "            <td>7700000.0</td>\n",
              "            <td>21613</td>\n",
              "        </tr>\n",
              "    </tbody>\n",
              "</table>"
            ]
          },
          "metadata": {},
          "execution_count": 16
        }
      ]
    },
    {
      "cell_type": "markdown",
      "source": [
        "3. Find the most common number of bedrooms:\n"
      ],
      "metadata": {
        "id": "lUWFatt_5yTU"
      }
    },
    {
      "cell_type": "code",
      "source": [
        "# @title\n",
        "%sql SELECT bedrooms, COUNT(bedrooms) AS count\\\n",
        "FROM kc_TBL\\\n",
        "GROUP BY bedrooms\\\n",
        "ORDER BY count DESC;"
      ],
      "metadata": {
        "colab": {
          "base_uri": "https://localhost:8080/",
          "height": 354
        },
        "id": "aRuqtERc1P3Z",
        "outputId": "c49313ee-05a8-4b15-d40f-0e05f529fc4e"
      },
      "execution_count": 18,
      "outputs": [
        {
          "output_type": "stream",
          "name": "stdout",
          "text": [
            " * sqlite:///kingcounty.db\n",
            "Done.\n"
          ]
        },
        {
          "output_type": "execute_result",
          "data": {
            "text/plain": [
              "[(3.0, 9824),\n",
              " (4.0, 6882),\n",
              " (2.0, 2760),\n",
              " (5.0, 1601),\n",
              " (6.0, 272),\n",
              " (1.0, 199),\n",
              " (7.0, 38),\n",
              " (8.0, 13),\n",
              " (9.0, 6),\n",
              " (10.0, 3),\n",
              " (33.0, 1),\n",
              " (11.0, 1),\n",
              " (None, 0)]"
            ],
            "text/html": [
              "<table>\n",
              "    <thead>\n",
              "        <tr>\n",
              "            <th>bedrooms</th>\n",
              "            <th>count</th>\n",
              "        </tr>\n",
              "    </thead>\n",
              "    <tbody>\n",
              "        <tr>\n",
              "            <td>3.0</td>\n",
              "            <td>9824</td>\n",
              "        </tr>\n",
              "        <tr>\n",
              "            <td>4.0</td>\n",
              "            <td>6882</td>\n",
              "        </tr>\n",
              "        <tr>\n",
              "            <td>2.0</td>\n",
              "            <td>2760</td>\n",
              "        </tr>\n",
              "        <tr>\n",
              "            <td>5.0</td>\n",
              "            <td>1601</td>\n",
              "        </tr>\n",
              "        <tr>\n",
              "            <td>6.0</td>\n",
              "            <td>272</td>\n",
              "        </tr>\n",
              "        <tr>\n",
              "            <td>1.0</td>\n",
              "            <td>199</td>\n",
              "        </tr>\n",
              "        <tr>\n",
              "            <td>7.0</td>\n",
              "            <td>38</td>\n",
              "        </tr>\n",
              "        <tr>\n",
              "            <td>8.0</td>\n",
              "            <td>13</td>\n",
              "        </tr>\n",
              "        <tr>\n",
              "            <td>9.0</td>\n",
              "            <td>6</td>\n",
              "        </tr>\n",
              "        <tr>\n",
              "            <td>10.0</td>\n",
              "            <td>3</td>\n",
              "        </tr>\n",
              "        <tr>\n",
              "            <td>33.0</td>\n",
              "            <td>1</td>\n",
              "        </tr>\n",
              "        <tr>\n",
              "            <td>11.0</td>\n",
              "            <td>1</td>\n",
              "        </tr>\n",
              "        <tr>\n",
              "            <td>None</td>\n",
              "            <td>0</td>\n",
              "        </tr>\n",
              "    </tbody>\n",
              "</table>"
            ]
          },
          "metadata": {},
          "execution_count": 18
        }
      ]
    },
    {
      "cell_type": "markdown",
      "source": [
        "4. Explore the relationship between the number of floors and average price:"
      ],
      "metadata": {
        "id": "W95q6c2g51rC"
      }
    },
    {
      "cell_type": "code",
      "source": [
        "# @title\n",
        "%sql SELECT floors, AVG(price) AS average_price\\\n",
        "FROM kc_TBL\\\n",
        "GROUP BY floors\\\n",
        "ORDER BY floors;"
      ],
      "metadata": {
        "colab": {
          "base_uri": "https://localhost:8080/",
          "height": 204
        },
        "id": "vRlD7hH-1jhK",
        "outputId": "2e346f40-a6dc-4e30-888e-bcec8f3614a6"
      },
      "execution_count": 19,
      "outputs": [
        {
          "output_type": "stream",
          "name": "stdout",
          "text": [
            " * sqlite:///kingcounty.db\n",
            "Done.\n"
          ]
        },
        {
          "output_type": "execute_result",
          "data": {
            "text/plain": [
              "[(1.0, 442180.6325842697),\n",
              " (1.5, 558980.6429319371),\n",
              " (2.0, 648891.163329693),\n",
              " (2.5, 1060346.4906832299),\n",
              " (3.0, 582526.0391517129),\n",
              " (3.5, 933312.5)]"
            ],
            "text/html": [
              "<table>\n",
              "    <thead>\n",
              "        <tr>\n",
              "            <th>floors</th>\n",
              "            <th>average_price</th>\n",
              "        </tr>\n",
              "    </thead>\n",
              "    <tbody>\n",
              "        <tr>\n",
              "            <td>1.0</td>\n",
              "            <td>442180.6325842697</td>\n",
              "        </tr>\n",
              "        <tr>\n",
              "            <td>1.5</td>\n",
              "            <td>558980.6429319371</td>\n",
              "        </tr>\n",
              "        <tr>\n",
              "            <td>2.0</td>\n",
              "            <td>648891.163329693</td>\n",
              "        </tr>\n",
              "        <tr>\n",
              "            <td>2.5</td>\n",
              "            <td>1060346.4906832299</td>\n",
              "        </tr>\n",
              "        <tr>\n",
              "            <td>3.0</td>\n",
              "            <td>582526.0391517129</td>\n",
              "        </tr>\n",
              "        <tr>\n",
              "            <td>3.5</td>\n",
              "            <td>933312.5</td>\n",
              "        </tr>\n",
              "    </tbody>\n",
              "</table>"
            ]
          },
          "metadata": {},
          "execution_count": 19
        }
      ]
    },
    {
      "cell_type": "markdown",
      "source": [
        "5. Identify the houses with the highest prices:"
      ],
      "metadata": {
        "id": "R7c1eM__6Dhz"
      }
    },
    {
      "cell_type": "code",
      "source": [
        "# @title\n",
        "%sql SELECT *\\\n",
        "FROM kc_TBL\\\n",
        "ORDER BY price DESC\\\n",
        "LIMIT 10;"
      ],
      "metadata": {
        "colab": {
          "base_uri": "https://localhost:8080/",
          "height": 327
        },
        "id": "fWUuaYgH6A9U",
        "outputId": "484d3e30-1d68-475a-c841-bf58d354c85d"
      },
      "execution_count": 20,
      "outputs": [
        {
          "output_type": "stream",
          "name": "stdout",
          "text": [
            " * sqlite:///kingcounty.db\n",
            "Done.\n"
          ]
        },
        {
          "output_type": "execute_result",
          "data": {
            "text/plain": [
              "[(7252, 6762700020, '20141013T000000', 7700000.0, 6.0, 8.0, 12050, 27600, 2.5, 0, 3, 4, 13, 8570, 3480, 1910, 1987, 98102, 47.6298, -122.323, 3940, 8800),\n",
              " (3914, 9808700762, '20140611T000000', 7062500.0, 5.0, 4.5, 10040, 37325, 2.0, 1, 2, 3, 11, 7680, 2360, 1940, 2001, 98004, 47.65, -122.214, 3930, 25449),\n",
              " (9254, 9208900037, '20140919T000000', 6885000.0, 6.0, 7.75, 9890, 31374, 2.0, 0, 4, 3, 13, 8860, 1030, 2001, 0, 98039, 47.6305, -122.24, 4540, 42730),\n",
              " (4411, 2470100110, '20140804T000000', 5570000.0, 5.0, 5.75, 9200, 35069, 2.0, 0, 0, 3, 13, 6200, 3000, 2001, 0, 98039, 47.6289, -122.233, 3560, 24345),\n",
              " (1448, 8907500070, '20150413T000000', 5350000.0, 5.0, 5.0, 8000, 23985, 2.0, 0, 4, 3, 12, 6720, 1280, 2009, 0, 98004, 47.6232, -122.22, 4600, 21750),\n",
              " (1315, 7558700030, '20150413T000000', 5300000.0, 6.0, 6.0, 7390, 24829, 2.0, 1, 4, 4, 12, 5000, 2390, 1991, 0, 98040, 47.5631, -122.21, 4320, 24619),\n",
              " (1164, 1247600105, '20141020T000000', 5110800.0, 5.0, 5.25, 8010, 45517, 2.0, 1, 4, 3, 12, 5990, 2020, 1999, 0, 98033, 47.6767, -122.211, 3430, 26788),\n",
              " (8092, 1924059029, '20140617T000000', 4668000.0, 5.0, 6.75, 9640, 13068, 1.0, 1, 4, 3, 12, 4820, 4820, 1983, 2009, 98040, 47.557, -122.21, 3270, 10454),\n",
              " (2626, 7738500731, '20140815T000000', 4500000.0, 5.0, 5.5, 6640, 40014, 2.0, 1, 4, 3, 12, 6350, 290, 2004, 0, 98155, 47.7493, -122.28, 3030, 23408),\n",
              " (8638, 3835500195, '20140618T000000', 4489000.0, 4.0, 3.0, 6430, 27517, 2.0, 0, 0, 3, 12, 6430, 0, 2001, 0, 98004, 47.6208, -122.219, 3720, 14592)]"
            ],
            "text/html": [
              "<table>\n",
              "    <thead>\n",
              "        <tr>\n",
              "            <th>Unnamed: 0</th>\n",
              "            <th>id</th>\n",
              "            <th>date</th>\n",
              "            <th>price</th>\n",
              "            <th>bedrooms</th>\n",
              "            <th>bathrooms</th>\n",
              "            <th>sqft_living</th>\n",
              "            <th>sqft_lot</th>\n",
              "            <th>floors</th>\n",
              "            <th>waterfront</th>\n",
              "            <th>view</th>\n",
              "            <th>condition</th>\n",
              "            <th>grade</th>\n",
              "            <th>sqft_above</th>\n",
              "            <th>sqft_basement</th>\n",
              "            <th>yr_built</th>\n",
              "            <th>yr_renovated</th>\n",
              "            <th>zipcode</th>\n",
              "            <th>lat</th>\n",
              "            <th>long</th>\n",
              "            <th>sqft_living15</th>\n",
              "            <th>sqft_lot15</th>\n",
              "        </tr>\n",
              "    </thead>\n",
              "    <tbody>\n",
              "        <tr>\n",
              "            <td>7252</td>\n",
              "            <td>6762700020</td>\n",
              "            <td>20141013T000000</td>\n",
              "            <td>7700000.0</td>\n",
              "            <td>6.0</td>\n",
              "            <td>8.0</td>\n",
              "            <td>12050</td>\n",
              "            <td>27600</td>\n",
              "            <td>2.5</td>\n",
              "            <td>0</td>\n",
              "            <td>3</td>\n",
              "            <td>4</td>\n",
              "            <td>13</td>\n",
              "            <td>8570</td>\n",
              "            <td>3480</td>\n",
              "            <td>1910</td>\n",
              "            <td>1987</td>\n",
              "            <td>98102</td>\n",
              "            <td>47.6298</td>\n",
              "            <td>-122.323</td>\n",
              "            <td>3940</td>\n",
              "            <td>8800</td>\n",
              "        </tr>\n",
              "        <tr>\n",
              "            <td>3914</td>\n",
              "            <td>9808700762</td>\n",
              "            <td>20140611T000000</td>\n",
              "            <td>7062500.0</td>\n",
              "            <td>5.0</td>\n",
              "            <td>4.5</td>\n",
              "            <td>10040</td>\n",
              "            <td>37325</td>\n",
              "            <td>2.0</td>\n",
              "            <td>1</td>\n",
              "            <td>2</td>\n",
              "            <td>3</td>\n",
              "            <td>11</td>\n",
              "            <td>7680</td>\n",
              "            <td>2360</td>\n",
              "            <td>1940</td>\n",
              "            <td>2001</td>\n",
              "            <td>98004</td>\n",
              "            <td>47.65</td>\n",
              "            <td>-122.214</td>\n",
              "            <td>3930</td>\n",
              "            <td>25449</td>\n",
              "        </tr>\n",
              "        <tr>\n",
              "            <td>9254</td>\n",
              "            <td>9208900037</td>\n",
              "            <td>20140919T000000</td>\n",
              "            <td>6885000.0</td>\n",
              "            <td>6.0</td>\n",
              "            <td>7.75</td>\n",
              "            <td>9890</td>\n",
              "            <td>31374</td>\n",
              "            <td>2.0</td>\n",
              "            <td>0</td>\n",
              "            <td>4</td>\n",
              "            <td>3</td>\n",
              "            <td>13</td>\n",
              "            <td>8860</td>\n",
              "            <td>1030</td>\n",
              "            <td>2001</td>\n",
              "            <td>0</td>\n",
              "            <td>98039</td>\n",
              "            <td>47.6305</td>\n",
              "            <td>-122.24</td>\n",
              "            <td>4540</td>\n",
              "            <td>42730</td>\n",
              "        </tr>\n",
              "        <tr>\n",
              "            <td>4411</td>\n",
              "            <td>2470100110</td>\n",
              "            <td>20140804T000000</td>\n",
              "            <td>5570000.0</td>\n",
              "            <td>5.0</td>\n",
              "            <td>5.75</td>\n",
              "            <td>9200</td>\n",
              "            <td>35069</td>\n",
              "            <td>2.0</td>\n",
              "            <td>0</td>\n",
              "            <td>0</td>\n",
              "            <td>3</td>\n",
              "            <td>13</td>\n",
              "            <td>6200</td>\n",
              "            <td>3000</td>\n",
              "            <td>2001</td>\n",
              "            <td>0</td>\n",
              "            <td>98039</td>\n",
              "            <td>47.6289</td>\n",
              "            <td>-122.233</td>\n",
              "            <td>3560</td>\n",
              "            <td>24345</td>\n",
              "        </tr>\n",
              "        <tr>\n",
              "            <td>1448</td>\n",
              "            <td>8907500070</td>\n",
              "            <td>20150413T000000</td>\n",
              "            <td>5350000.0</td>\n",
              "            <td>5.0</td>\n",
              "            <td>5.0</td>\n",
              "            <td>8000</td>\n",
              "            <td>23985</td>\n",
              "            <td>2.0</td>\n",
              "            <td>0</td>\n",
              "            <td>4</td>\n",
              "            <td>3</td>\n",
              "            <td>12</td>\n",
              "            <td>6720</td>\n",
              "            <td>1280</td>\n",
              "            <td>2009</td>\n",
              "            <td>0</td>\n",
              "            <td>98004</td>\n",
              "            <td>47.6232</td>\n",
              "            <td>-122.22</td>\n",
              "            <td>4600</td>\n",
              "            <td>21750</td>\n",
              "        </tr>\n",
              "        <tr>\n",
              "            <td>1315</td>\n",
              "            <td>7558700030</td>\n",
              "            <td>20150413T000000</td>\n",
              "            <td>5300000.0</td>\n",
              "            <td>6.0</td>\n",
              "            <td>6.0</td>\n",
              "            <td>7390</td>\n",
              "            <td>24829</td>\n",
              "            <td>2.0</td>\n",
              "            <td>1</td>\n",
              "            <td>4</td>\n",
              "            <td>4</td>\n",
              "            <td>12</td>\n",
              "            <td>5000</td>\n",
              "            <td>2390</td>\n",
              "            <td>1991</td>\n",
              "            <td>0</td>\n",
              "            <td>98040</td>\n",
              "            <td>47.5631</td>\n",
              "            <td>-122.21</td>\n",
              "            <td>4320</td>\n",
              "            <td>24619</td>\n",
              "        </tr>\n",
              "        <tr>\n",
              "            <td>1164</td>\n",
              "            <td>1247600105</td>\n",
              "            <td>20141020T000000</td>\n",
              "            <td>5110800.0</td>\n",
              "            <td>5.0</td>\n",
              "            <td>5.25</td>\n",
              "            <td>8010</td>\n",
              "            <td>45517</td>\n",
              "            <td>2.0</td>\n",
              "            <td>1</td>\n",
              "            <td>4</td>\n",
              "            <td>3</td>\n",
              "            <td>12</td>\n",
              "            <td>5990</td>\n",
              "            <td>2020</td>\n",
              "            <td>1999</td>\n",
              "            <td>0</td>\n",
              "            <td>98033</td>\n",
              "            <td>47.6767</td>\n",
              "            <td>-122.211</td>\n",
              "            <td>3430</td>\n",
              "            <td>26788</td>\n",
              "        </tr>\n",
              "        <tr>\n",
              "            <td>8092</td>\n",
              "            <td>1924059029</td>\n",
              "            <td>20140617T000000</td>\n",
              "            <td>4668000.0</td>\n",
              "            <td>5.0</td>\n",
              "            <td>6.75</td>\n",
              "            <td>9640</td>\n",
              "            <td>13068</td>\n",
              "            <td>1.0</td>\n",
              "            <td>1</td>\n",
              "            <td>4</td>\n",
              "            <td>3</td>\n",
              "            <td>12</td>\n",
              "            <td>4820</td>\n",
              "            <td>4820</td>\n",
              "            <td>1983</td>\n",
              "            <td>2009</td>\n",
              "            <td>98040</td>\n",
              "            <td>47.557</td>\n",
              "            <td>-122.21</td>\n",
              "            <td>3270</td>\n",
              "            <td>10454</td>\n",
              "        </tr>\n",
              "        <tr>\n",
              "            <td>2626</td>\n",
              "            <td>7738500731</td>\n",
              "            <td>20140815T000000</td>\n",
              "            <td>4500000.0</td>\n",
              "            <td>5.0</td>\n",
              "            <td>5.5</td>\n",
              "            <td>6640</td>\n",
              "            <td>40014</td>\n",
              "            <td>2.0</td>\n",
              "            <td>1</td>\n",
              "            <td>4</td>\n",
              "            <td>3</td>\n",
              "            <td>12</td>\n",
              "            <td>6350</td>\n",
              "            <td>290</td>\n",
              "            <td>2004</td>\n",
              "            <td>0</td>\n",
              "            <td>98155</td>\n",
              "            <td>47.7493</td>\n",
              "            <td>-122.28</td>\n",
              "            <td>3030</td>\n",
              "            <td>23408</td>\n",
              "        </tr>\n",
              "        <tr>\n",
              "            <td>8638</td>\n",
              "            <td>3835500195</td>\n",
              "            <td>20140618T000000</td>\n",
              "            <td>4489000.0</td>\n",
              "            <td>4.0</td>\n",
              "            <td>3.0</td>\n",
              "            <td>6430</td>\n",
              "            <td>27517</td>\n",
              "            <td>2.0</td>\n",
              "            <td>0</td>\n",
              "            <td>0</td>\n",
              "            <td>3</td>\n",
              "            <td>12</td>\n",
              "            <td>6430</td>\n",
              "            <td>0</td>\n",
              "            <td>2001</td>\n",
              "            <td>0</td>\n",
              "            <td>98004</td>\n",
              "            <td>47.6208</td>\n",
              "            <td>-122.219</td>\n",
              "            <td>3720</td>\n",
              "            <td>14592</td>\n",
              "        </tr>\n",
              "    </tbody>\n",
              "</table>"
            ]
          },
          "metadata": {},
          "execution_count": 20
        }
      ]
    },
    {
      "cell_type": "markdown",
      "source": [
        "6. Check the distribution of houses with and without a waterfront view:"
      ],
      "metadata": {
        "id": "l3oF2C4-6QQp"
      }
    },
    {
      "cell_type": "code",
      "source": [
        "# @title\n",
        "%sql SELECT waterfront, COUNT(waterfront) AS count\\\n",
        "FROM kc_TBL\\\n",
        "GROUP BY waterfront;"
      ],
      "metadata": {
        "colab": {
          "base_uri": "https://localhost:8080/",
          "height": 119
        },
        "id": "LaSH9me36NaM",
        "outputId": "ccc5bda6-e3ea-41ba-d227-1da8e6d70ad7"
      },
      "execution_count": 26,
      "outputs": [
        {
          "output_type": "stream",
          "name": "stdout",
          "text": [
            " * sqlite:///kingcounty.db\n",
            "Done.\n"
          ]
        },
        {
          "output_type": "execute_result",
          "data": {
            "text/plain": [
              "[(0, 21450), (1, 163)]"
            ],
            "text/html": [
              "<table>\n",
              "    <thead>\n",
              "        <tr>\n",
              "            <th>waterfront</th>\n",
              "            <th>count</th>\n",
              "        </tr>\n",
              "    </thead>\n",
              "    <tbody>\n",
              "        <tr>\n",
              "            <td>0</td>\n",
              "            <td>21450</td>\n",
              "        </tr>\n",
              "        <tr>\n",
              "            <td>1</td>\n",
              "            <td>163</td>\n",
              "        </tr>\n",
              "    </tbody>\n",
              "</table>"
            ]
          },
          "metadata": {},
          "execution_count": 26
        }
      ]
    },
    {
      "cell_type": "code",
      "source": [
        "# @title\n"
      ],
      "metadata": {
        "id": "9D4P7oqW7va1"
      },
      "execution_count": null,
      "outputs": []
    }
  ]
}