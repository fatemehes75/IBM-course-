{
  "nbformat": 4,
  "nbformat_minor": 0,
  "metadata": {
    "colab": {
      "provenance": [],
      "authorship_tag": "ABX9TyMQNyAuOVSn+61onXK9pZX3",
      "include_colab_link": true
    },
    "kernelspec": {
      "name": "python3",
      "display_name": "Python 3"
    },
    "language_info": {
      "name": "python"
    }
  },
  "cells": [
    {
      "cell_type": "markdown",
      "metadata": {
        "id": "view-in-github",
        "colab_type": "text"
      },
      "source": [
        "<a href=\"https://colab.research.google.com/github/fatemehes75/IBM-course-/blob/main/Data_visualization/Automobile_Data_Visualization_Dashboard.ipynb\" target=\"_parent\"><img src=\"https://colab.research.google.com/assets/colab-badge.svg\" alt=\"Open In Colab\"/></a>"
      ]
    },
    {
      "cell_type": "markdown",
      "source": [
        "# **Story:**\n",
        "\n",
        "There is an automobile dataset which has various attributes like drive-wheels,body-style and price.\n",
        "\n",
        "The snapshot of selected dataset:\n",
        "\n",
        "\n",
        "\n",
        "3 important features drive-wheels, body-style and Price are selected. The possible values of drive-wheels are 4 wheel Drive(4wd),Front WheelDrive(fwd) and Rear wheel Drive(rwd). The different body styles of the cars are hardtop,sedan,convertible and so on.\n",
        "\n",
        "There are 2 types of people h\n",
        "\n",
        "\n",
        "1.  A customer who wants to purchase the cars with less price , different body styles and wants to look for the drive wheel with this arrangement.\n",
        "2.   A dealer who wants to showcase the prices for the cars with different body styles and drive wheels.\n",
        "\n",
        "\n",
        "**Goal**\n",
        "\n",
        "The goal is to visually show the body-style and prices with respect to each drive wheel selected.\n",
        "\n",
        "\n",
        "* Pie Chart showing body style and price.\n",
        "* Bar Chart showing body style and price."
      ],
      "metadata": {
        "id": "H1g2A_rEE9eV"
      }
    },
    {
      "cell_type": "markdown",
      "source": [
        "Dataset Link:\n",
        "https://cf-courses-data.s3.us.cloud-object-storage.appdomain.cloud/IBMDeveloperSkillsNetwork-DA0101EN-SkillsNetwork/labs/Data%20files/automobileEDA.csv"
      ],
      "metadata": {
        "id": "rTWcqnF-HQ0e"
      }
    },
    {
      "cell_type": "code",
      "source": [
        "!pip install pandas dash\n",
        "!pip3 install httpx==0.20 dash plotly"
      ],
      "metadata": {
        "id": "bELTyAyVGLsD"
      },
      "execution_count": null,
      "outputs": []
    },
    {
      "cell_type": "code",
      "execution_count": 3,
      "metadata": {
        "colab": {
          "base_uri": "https://localhost:8080/",
          "height": 819
        },
        "id": "LPpGeikoE8z8",
        "outputId": "d1171861-5940-4ad0-f88a-77eff33aae23"
      },
      "outputs": [
        {
          "output_type": "stream",
          "name": "stderr",
          "text": [
            "<ipython-input-3-40bb428e2982>:3: UserWarning: \n",
            "The dash_html_components package is deprecated. Please replace\n",
            "`import dash_html_components as html` with `from dash import html`\n",
            "  import dash_html_components as html\n",
            "<ipython-input-3-40bb428e2982>:4: UserWarning: \n",
            "The dash_core_components package is deprecated. Please replace\n",
            "`import dash_core_components as dcc` with `from dash import dcc`\n",
            "  import dash_core_components as dcc\n"
          ]
        },
        {
          "output_type": "display_data",
          "data": {
            "text/plain": [
              "<IPython.core.display.Javascript object>"
            ],
            "application/javascript": [
              "(async (port, path, width, height, cache, element) => {\n",
              "    if (!google.colab.kernel.accessAllowed && !cache) {\n",
              "      return;\n",
              "    }\n",
              "    element.appendChild(document.createTextNode(''));\n",
              "    const url = await google.colab.kernel.proxyPort(port, {cache});\n",
              "    const iframe = document.createElement('iframe');\n",
              "    iframe.src = new URL(path, url).toString();\n",
              "    iframe.height = height;\n",
              "    iframe.width = width;\n",
              "    iframe.style.border = 0;\n",
              "    iframe.allow = [\n",
              "        'accelerometer',\n",
              "        'autoplay',\n",
              "        'camera',\n",
              "        'clipboard-read',\n",
              "        'clipboard-write',\n",
              "        'gyroscope',\n",
              "        'magnetometer',\n",
              "        'microphone',\n",
              "        'serial',\n",
              "        'usb',\n",
              "        'xr-spatial-tracking',\n",
              "    ].join('; ');\n",
              "    element.appendChild(iframe);\n",
              "  })(8050, \"/\", \"100%\", 650, false, window.element)"
            ]
          },
          "metadata": {}
        }
      ],
      "source": [
        "import pandas as pd\n",
        "import dash\n",
        "import dash_html_components as html\n",
        "import dash_core_components as dcc\n",
        "from dash.dependencies import Input, Output, State\n",
        "import plotly.graph_objects as go\n",
        "import plotly.express as px\n",
        "from dash import no_update\n",
        "\n",
        "app = dash.Dash(__name__)\n",
        "\n",
        "# REVIEW1: Clear the layout and do not display exception till callback gets executed\n",
        "app.config.suppress_callback_exceptions = True\n",
        "\n",
        "# Read the automobiles data into pandas dataframe\n",
        "auto_data =  pd.read_csv('automobileEDA.csv',\n",
        "                            encoding = \"ISO-8859-1\",\n",
        "                            )\n",
        "\n",
        "#Layout Section of Dash\n",
        "\n",
        "app.layout = html.Div(children=[html.H1('Car Automobile Components',\n",
        "                                style={'textAlign': 'center', 'color': '#503D36',\n",
        "                                'font-size': 24}),\n",
        "\n",
        "     #outer division starts\n",
        "     html.Div([\n",
        "                   # First inner divsion for  adding dropdown helper text for Selected Drive wheels\n",
        "                    html.Div(\n",
        "                            html.H2('Drive Wheels Type:', style={'margin-right': '2em'}),\n",
        "                     ),\n",
        "                    #Second Inner division for adding 2 inner divisions for 2 output graphs\n",
        "\n",
        "                      dcc.Dropdown(\n",
        "                            id='demo-dropdown',\n",
        "                        options=[\n",
        "                             {'label': 'Rear Wheel Drive', 'value': 'rwd'},\n",
        "                            {'label': 'Front Wheel Drive', 'value': 'fwd'},\n",
        "                             {'label': 'Four Wheel Drive', 'value': '4wd'}\n",
        "        ],\n",
        "        value='rwd'\n",
        "        ),\n",
        "                    #Second Inner division for adding 2 inner divisions for 2 output graphs\n",
        "\n",
        "                    html.Div([\n",
        "\n",
        "                        html.Div([ ], id='plot1'),\n",
        "                        html.Div([ ], id='plot2')\n",
        "\n",
        "\n",
        "                    ], style={'display': 'flex'}),\n",
        "\n",
        "    ])\n",
        "    #outer division ends\n",
        "\n",
        "])\n",
        "#layout ends\n",
        "\n",
        "#Place to add @app.callback Decorator\n",
        "@app.callback([Output(component_id='plot1', component_property='children'),\n",
        "               Output(component_id='plot2', component_property='children')],\n",
        "               Input(component_id='demo-dropdown', component_property='value'))\n",
        "\n",
        "\n",
        "#Place to define the callback function .\n",
        "def display_selected_drive_charts(value):\n",
        "\n",
        "\n",
        "\n",
        "   filtered_df = auto_data[auto_data['drive-wheels']==value].groupby(['drive-wheels','body-style'],as_index=False). \\\n",
        "            mean()\n",
        "\n",
        "   filtered_df = filtered_df\n",
        "\n",
        "   fig1 = px.pie(filtered_df, values='price', names='body-style', title=\"Pie Chart\")\n",
        "   fig2 = px.bar(filtered_df, x='body-style', y='price', title='Bar Chart')\n",
        "\n",
        "   return [dcc.Graph(figure=fig1),\n",
        "            dcc.Graph(figure=fig2) ]\n",
        "\n",
        "\n",
        "\n",
        "\n",
        "if __name__ == '__main__':\n",
        "    app.run_server()\n",
        ""
      ]
    },
    {
      "cell_type": "code",
      "source": [],
      "metadata": {
        "id": "gSINVKyhGB6t"
      },
      "execution_count": null,
      "outputs": []
    }
  ]
}